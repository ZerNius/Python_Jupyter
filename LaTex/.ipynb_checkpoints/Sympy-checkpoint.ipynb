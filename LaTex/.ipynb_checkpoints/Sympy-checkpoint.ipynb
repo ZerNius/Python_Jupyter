{
 "cells": [
  {
   "cell_type": "code",
   "execution_count": 1,
   "id": "e15e6a2c",
   "metadata": {},
   "outputs": [],
   "source": [
    "import sympy as sym\n",
    "from IPython.display import display, Math\n",
    "sym.init_printing()"
   ]
  },
  {
   "cell_type": "code",
   "execution_count": 5,
   "id": "3c2005a2",
   "metadata": {},
   "outputs": [
    {
     "data": {
      "image/png": "[encoded data removed]",
      "text/latex": [
       "$\\displaystyle e^{2}$"
      ],
      "text/plain": [
       " 2\n",
       "ℯ "
      ]
     },
     "metadata": {},
     "output_type": "display_data"
    },
    {
     "data": {
      "image/png": "[encoded data removed]",
      "text/latex": [
       "$\\displaystyle e^{\\frac{- \\alpha^{2} + \\mu}{\\alpha + 2 \\sigma}}$"
      ],
      "text/plain": [
       "    2    \n",
       " - α  + μ\n",
       " ────────\n",
       " α + 2⋅σ \n",
       "ℯ        "
      ]
     },
     "metadata": {},
     "output_type": "display_data"
    }
   ],
   "source": [
    "# intialize greek symbols as word\n",
    "mu, alpha, sigma = sym.symbols('mu, alpha, sigma')\n",
    "# sym.exp() -> exponential function\n",
    "exp = sym.exp(2)\n",
    "expr = sym.exp( (mu-alpha**2) / (sigma * 2 + alpha))\n",
    "\n",
    "display(exp)\n",
    "display(expr)"
   ]
  },
  {
   "cell_type": "code",
   "execution_count": 9,
   "id": "26f53c2b",
   "metadata": {},
   "outputs": [
    {
     "data": {
      "image/png": "[encoded data removed]",
      "text/latex": [
       "$\\displaystyle 5$"
      ],
      "text/plain": [
       "5"
      ]
     },
     "execution_count": 9,
     "metadata": {},
     "output_type": "execute_result"
    }
   ],
   "source": [
    "# subsituting symbols\n",
    "x, y = sym.symbols('x, y')\n",
    "\n",
    "exp1 = 2*x + y\n",
    "# single sub\n",
    "exp1.subs(x, 2)\n",
    "# multiple sub use dictionary\n",
    "exp1.subs({x: 2, y: 1})"
   ]
  },
  {
   "cell_type": "code",
   "execution_count": 16,
   "id": "c2790cf6",
   "metadata": {},
   "outputs": [
    {
     "data": {
      "text/latex": [
       "$\\displaystyle \\text{With } x = -2,\\space x^2 + 4 \\quad \\Rightarrow \\quad -2^2+4 = 8$"
      ],
      "text/plain": [
       "<IPython.core.display.Math object>"
      ]
     },
     "metadata": {},
     "output_type": "display_data"
    },
    {
     "data": {
      "text/latex": [
       "$\\displaystyle \\text{With } x = -1,\\space x^2 + 4 \\quad \\Rightarrow \\quad -1^2+4 = 5$"
      ],
      "text/plain": [
       "<IPython.core.display.Math object>"
      ]
     },
     "metadata": {},
     "output_type": "display_data"
    },
    {
     "data": {
      "text/latex": [
       "$\\displaystyle \\text{With } x = 0,\\space x^2 + 4 \\quad \\Rightarrow \\quad 0^2+4 = 4$"
      ],
      "text/plain": [
       "<IPython.core.display.Math object>"
      ]
     },
     "metadata": {},
     "output_type": "display_data"
    },
    {
     "data": {
      "text/latex": [
       "$\\displaystyle \\text{With } x = 1,\\space x^2 + 4 \\quad \\Rightarrow \\quad 1^2+4 = 5$"
      ],
      "text/plain": [
       "<IPython.core.display.Math object>"
      ]
     },
     "metadata": {},
     "output_type": "display_data"
    },
    {
     "data": {
      "text/latex": [
       "$\\displaystyle \\text{With } x = 2,\\space x^2 + 4 \\quad \\Rightarrow \\quad 2^2+4 = 8$"
      ],
      "text/plain": [
       "<IPython.core.display.Math object>"
      ]
     },
     "metadata": {},
     "output_type": "display_data"
    }
   ],
   "source": [
    "# using everything together\n",
    "exp2  =  x**2 + 4\n",
    "for i in range(-2, 3):\n",
    "        display(Math('\\\\text{With } x = %g,\\\\space x^2 + 4 \\\\quad \\\\Rightarrow \\\\quad %g^2+4 = %g' %(i, i, exp2.subs(x, i))))"
   ]
  },
  {
   "cell_type": "code",
   "execution_count": 17,
   "id": "29e56f9f",
   "metadata": {},
   "outputs": [
    {
     "data": {
      "text/latex": [
       "$\\displaystyle \\text{With } x = -2,\\space x^2 + 4 \\quad \\Rightarrow \\quad -2^2+4 = 8$"
      ],
      "text/plain": [
       "<IPython.core.display.Math object>"
      ]
     },
     "metadata": {},
     "output_type": "display_data"
    },
    {
     "data": {
      "text/latex": [
       "$\\displaystyle \\text{With } x = -1,\\space x^2 + 4 \\quad \\Rightarrow \\quad -1^2+4 = 5$"
      ],
      "text/plain": [
       "<IPython.core.display.Math object>"
      ]
     },
     "metadata": {},
     "output_type": "display_data"
    },
    {
     "data": {
      "text/latex": [
       "$\\displaystyle \\text{With } x = 0,\\space x^2 + 4 \\quad \\Rightarrow \\quad 0^2+4 = 4$"
      ],
      "text/plain": [
       "<IPython.core.display.Math object>"
      ]
     },
     "metadata": {},
     "output_type": "display_data"
    },
    {
     "data": {
      "text/latex": [
       "$\\displaystyle \\text{With } x = 1,\\space x^2 + 4 \\quad \\Rightarrow \\quad 1^2+4 = 5$"
      ],
      "text/plain": [
       "<IPython.core.display.Math object>"
      ]
     },
     "metadata": {},
     "output_type": "display_data"
    },
    {
     "data": {
      "text/latex": [
       "$\\displaystyle \\text{With } x = 2,\\space x^2 + 4 \\quad \\Rightarrow \\quad 2^2+4 = 8$"
      ],
      "text/plain": [
       "<IPython.core.display.Math object>"
      ]
     },
     "metadata": {},
     "output_type": "display_data"
    }
   ],
   "source": [
    "# another way to achieve same\n",
    "for i in range(-2, 3):\n",
    "    ans = (x+4).subs(x, i**2)\n",
    "    display(Math('\\\\text{With } x = %g,\\\\space x^2 + 4 \\\\quad \\\\Rightarrow \\\\quad %g^2+4 = %g' %(i, i, exp2.subs(x, i))))"
   ]
  }
 ],
 "metadata": {
  "kernelspec": {
   "display_name": "Python 3 (ipykernel)",
   "language": "python",
   "name": "python3"
  },
  "language_info": {
   "codemirror_mode": {
    "name": "ipython",
    "version": 3
   },
   "file_extension": ".py",
   "mimetype": "text/x-python",
   "name": "python",
   "nbconvert_exporter": "python",
   "pygments_lexer": "ipython3",
   "version": "3.10.9"
  }
 },
 "nbformat": 4,
 "nbformat_minor": 5
}
