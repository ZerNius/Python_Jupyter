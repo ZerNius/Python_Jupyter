{
 "cells": [
  {
   "cell_type": "code",
   "execution_count": 1,
   "id": "e2946ca6",
   "metadata": {},
   "outputs": [
    {
     "data": {
      "text/latex": [
       "$\\displaystyle 4 + 3 = 7$"
      ],
      "text/plain": [
       "<IPython.core.display.Math object>"
      ]
     },
     "metadata": {},
     "output_type": "display_data"
    }
   ],
   "source": [
    "# LaTeX is used to write mathematical eqn and not to evaluate them\n",
    "from IPython.display import display, Math\n",
    "\n",
    "display(Math('4 + 3 = 7'))"
   ]
  },
  {
   "cell_type": "code",
   "execution_count": 5,
   "id": "14f4abeb",
   "metadata": {},
   "outputs": [
    {
     "data": {
      "text/latex": [
       "$\\displaystyle \\sigma = \\mu \\times \\sqrt{y \\times 2}$"
      ],
      "text/plain": [
       "<IPython.core.display.Math object>"
      ]
     },
     "metadata": {},
     "output_type": "display_data"
    }
   ],
   "source": [
    "# using special characters\n",
    "display(Math('\\\\sigma = \\\\mu \\\\times \\\\sqrt{y \\\\times 2}'))"
   ]
  },
  {
   "cell_type": "code",
   "execution_count": 4,
   "id": "d6cba05b",
   "metadata": {},
   "outputs": [
    {
     "data": {
      "text/latex": [
       "$\\displaystyle x_{mm} + y^{ny}$"
      ],
      "text/plain": [
       "<IPython.core.display.Math object>"
      ]
     },
     "metadata": {},
     "output_type": "display_data"
    }
   ],
   "source": [
    "# using subscript and superscript\n",
    "display(Math('x_{mm} + y^{ny}'))"
   ]
  },
  {
   "cell_type": "code",
   "execution_count": 7,
   "id": "11c856a3",
   "metadata": {},
   "outputs": [
    {
     "data": {
      "text/latex": [
       "$\\displaystyle \\frac{1+x}{u+v^y}$"
      ],
      "text/plain": [
       "<IPython.core.display.Math object>"
      ]
     },
     "metadata": {},
     "output_type": "display_data"
    }
   ],
   "source": [
    "# using fraction\n",
    "display(Math('\\\\frac{1+x}{u+v^y}'))"
   ]
  },
  {
   "cell_type": "code",
   "execution_count": 9,
   "id": "cd6dd90f",
   "metadata": {},
   "outputs": [
    {
     "data": {
      "text/latex": [
       "$\\displaystyle \\text{Representing fraction in LaTex } \\frac{1+x}{u+v^y}$"
      ],
      "text/plain": [
       "<IPython.core.display.Math object>"
      ]
     },
     "metadata": {},
     "output_type": "display_data"
    }
   ],
   "source": [
    "# display regular text\n",
    "display(Math('\\\\text{Representing fraction in LaTex } \\\\frac{1+x}{u+v^y}' ))"
   ]
  },
  {
   "cell_type": "markdown",
   "id": "ef5b4af2",
   "metadata": {},
   "source": [
    "# Markdown Cell\n",
    "\n",
    "This is how you create markdown cell in jupyter.\n",
    "<br> This cell cannot run code\n",
    "<br><br> Integrating LaTex in markdown:\n",
    "$$ \\frac{1+x}{u+v^y} $$"
   ]
  },
  {
   "cell_type": "code",
   "execution_count": 11,
   "id": "e8e7dde8",
   "metadata": {},
   "outputs": [
    {
     "data": {
      "text/latex": [
       "$\\displaystyle 4x + 5y - 8x = 17$"
      ],
      "text/plain": [
       "<IPython.core.display.Math object>"
      ]
     },
     "metadata": {},
     "output_type": "display_data"
    },
    {
     "data": {
      "text/latex": [
       "$\\displaystyle sin(2 \\pi ft + \\theta)$"
      ],
      "text/plain": [
       "<IPython.core.display.Math object>"
      ]
     },
     "metadata": {},
     "output_type": "display_data"
    },
    {
     "data": {
      "text/latex": [
       "$\\displaystyle e = mc^2$"
      ],
      "text/plain": [
       "<IPython.core.display.Math object>"
      ]
     },
     "metadata": {},
     "output_type": "display_data"
    },
    {
     "data": {
      "text/latex": [
       "$\\displaystyle \\frac{4+5x^2}{(1+x)(1-x)}$"
      ],
      "text/plain": [
       "<IPython.core.display.Math object>"
      ]
     },
     "metadata": {},
     "output_type": "display_data"
    }
   ],
   "source": [
    "display(Math('4x + 5y - 8x = 17'))\n",
    "display(Math('sin(2 \\\\pi ft + \\\\theta)'))\n",
    "display(Math('e = mc^2'))\n",
    "display(Math('\\\\frac{4+5x^2}{(1+x)(1-x)}'))\n"
   ]
  }
 ],
 "metadata": {
  "kernelspec": {
   "display_name": "Python 3 (ipykernel)",
   "language": "python",
   "name": "python3"
  },
  "language_info": {
   "codemirror_mode": {
    "name": "ipython",
    "version": 3
   },
   "file_extension": ".py",
   "mimetype": "text/x-python",
   "name": "python",
   "nbconvert_exporter": "python",
   "pygments_lexer": "ipython3",
   "version": "3.10.9"
  }
 },
 "nbformat": 4,
 "nbformat_minor": 5
}
