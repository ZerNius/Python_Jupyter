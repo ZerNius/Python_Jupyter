{
 "cells": [
  {
   "cell_type": "code",
   "execution_count": 4,
   "id": "17174c16",
   "metadata": {},
   "outputs": [
    {
     "name": "stdout",
     "output_type": "stream",
     "text": [
      "5 to the power 0 is 1\n",
      "5 to the power 1 is 5\n",
      "5 to the power 2 is 25\n",
      "5 to the power 3 is 125\n",
      "5 to the power 4 is 625\n",
      "5 to the power 5 is 3125\n",
      "5 to the power 6 is 15625\n",
      "5 to the power 7 is 78125\n",
      "5 to the power 8 is 390625\n",
      "5 to the power 9 is 1.95312e+06\n"
     ]
    }
   ],
   "source": [
    "base = 5\n",
    "for i in range(0, 10):\n",
    "    ans = base**i\n",
    "    print('%g to the power %g is %g' %(base, i, ans))"
   ]
  }
 ],
 "metadata": {
  "kernelspec": {
   "display_name": "Python 3 (ipykernel)",
   "language": "python",
   "name": "python3"
  },
  "language_info": {
   "codemirror_mode": {
    "name": "ipython",
    "version": 3
   },
   "file_extension": ".py",
   "mimetype": "text/x-python",
   "name": "python",
   "nbconvert_exporter": "python",
   "pygments_lexer": "ipython3",
   "version": "3.10.9"
  }
 },
 "nbformat": 4,
 "nbformat_minor": 5
}
