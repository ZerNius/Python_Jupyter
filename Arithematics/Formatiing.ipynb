{
 "cells": [
  {
   "cell_type": "code",
   "execution_count": 1,
   "id": "31705c17",
   "metadata": {},
   "outputs": [
    {
     "data": {
      "text/latex": [
       "$\\displaystyle 4 + 5 = 9$"
      ],
      "text/plain": [
       "<IPython.core.display.Math object>"
      ]
     },
     "metadata": {},
     "output_type": "display_data"
    }
   ],
   "source": [
    "from IPython.display import display, Math\n",
    "x = 4\n",
    "y = 5\n",
    "\n",
    "display(Math( str(x) + ' + ' + str(y) + ' = ' + str(x+y)))\n"
   ]
  },
  {
   "cell_type": "code",
   "execution_count": 4,
   "id": "89c95ad4",
   "metadata": {},
   "outputs": [
    {
     "data": {
      "text/latex": [
       "$\\displaystyle 4+5 = 9$"
      ],
      "text/plain": [
       "<IPython.core.display.Math object>"
      ]
     },
     "metadata": {},
     "output_type": "display_data"
    }
   ],
   "source": [
    "# For better code reading using string formatting \n",
    "display(Math( '%g+%g = %g' %(x, y, x+y) ))"
   ]
  },
  {
   "cell_type": "code",
   "execution_count": 6,
   "id": "acf0184e",
   "metadata": {},
   "outputs": [
    {
     "data": {
      "text/latex": [
       "$\\displaystyle \\frac{4}{5}$"
      ],
      "text/plain": [
       "<IPython.core.display.Math object>"
      ]
     },
     "metadata": {},
     "output_type": "display_data"
    }
   ],
   "source": [
    "# Adding LaTeX to better format math equations\n",
    "display(Math( '\\\\frac{4}{5}' ))"
   ]
  },
  {
   "cell_type": "code",
   "execution_count": 9,
   "id": "d1eb1734",
   "metadata": {},
   "outputs": [
    {
     "data": {
      "text/latex": [
       "$\\displaystyle 4 \\times 5 = 20$"
      ],
      "text/plain": [
       "<IPython.core.display.Math object>"
      ]
     },
     "metadata": {},
     "output_type": "display_data"
    }
   ],
   "source": [
    "# Using LaTeX with string formatting\n",
    "display(Math( '%g \\\\times %g = %g' %(x, y, x*y) ))"
   ]
  },
  {
   "cell_type": "code",
   "execution_count": 16,
   "id": "aefef705",
   "metadata": {},
   "outputs": [
    {
     "data": {
      "text/latex": [
       "$\\displaystyle 3x(4 + y) = 42$"
      ],
      "text/plain": [
       "<IPython.core.display.Math object>"
      ]
     },
     "metadata": {},
     "output_type": "display_data"
    },
    {
     "data": {
      "text/latex": [
       "$\\displaystyle  3 \\times 7(4 + -2) = 42$"
      ],
      "text/plain": [
       "<IPython.core.display.Math object>"
      ]
     },
     "metadata": {},
     "output_type": "display_data"
    }
   ],
   "source": [
    "x = 7\n",
    "y = -2\n",
    "z = 5\n",
    "\n",
    "res = 3*x * (4 + y)\n",
    "display(Math('3x(4 + y) = 42'))\n",
    "display(Math(' 3 \\\\times %g(4 + %g) = %g' %(x, y, res) ))"
   ]
  },
  {
   "cell_type": "code",
   "execution_count": 17,
   "id": "8a011bfe",
   "metadata": {},
   "outputs": [
    {
     "data": {
      "text/latex": [
       "$\\displaystyle -y - \\frac{x + 3}{z} = 0 $"
      ],
      "text/plain": [
       "<IPython.core.display.Math object>"
      ]
     },
     "metadata": {},
     "output_type": "display_data"
    },
    {
     "data": {
      "text/latex": [
       "$\\displaystyle --2 - \\frac{7 + 3}{5} = 4$"
      ],
      "text/plain": [
       "<IPython.core.display.Math object>"
      ]
     },
     "metadata": {},
     "output_type": "display_data"
    }
   ],
   "source": [
    "res = -y * (x+3)/z\n",
    "display(Math( '-y - \\\\frac{x + 3}{z} = 0 ' ))\n",
    "display(Math( '-%g - \\\\frac{%g + 3}{%g} = %g' %(y, x, z, res) ))"
   ]
  }
 ],
 "metadata": {
  "kernelspec": {
   "display_name": "Python 3 (ipykernel)",
   "language": "python",
   "name": "python3"
  },
  "language_info": {
   "codemirror_mode": {
    "name": "ipython",
    "version": 3
   },
   "file_extension": ".py",
   "mimetype": "text/x-python",
   "name": "python",
   "nbconvert_exporter": "python",
   "pygments_lexer": "ipython3",
   "version": "3.10.9"
  }
 },
 "nbformat": 4,
 "nbformat_minor": 5
}
