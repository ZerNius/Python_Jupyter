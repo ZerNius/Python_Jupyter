{
 "cells": [
  {
   "cell_type": "code",
   "execution_count": null,
   "id": "559a9d38",
   "metadata": {},
   "outputs": [],
   "source": [
    "from IPython.display import display, Math\n",
    "def power(base, power):\n",
    "    return base**power\n",
    "\n",
    "def division(divident, divisor):\n",
    "    return divident/divisor\n",
    "\n",
    "def interactive():\n",
    "    a = int( input('Input X: '))\n",
    "    b = int( input('Input Y: '))\n",
    "    display(Math('\\\\text{Press \"1\" to compute} %g^%g \\\\text{or \"2\" to compute } \\\\frac{%g}{%g}' %(a, b, a, b) ))\n",
    "    choice = int(input(' '))\n",
    "    \n",
    "    if(choice == 1):\n",
    "        print(power(a, b))\n",
    "    elif(choice == 2):\n",
    "        print(division(a, b))\n",
    "    else:\n",
    "        print('Invalid choice!')"
   ]
  },
  {
   "cell_type": "code",
   "execution_count": null,
   "id": "509979b1",
   "metadata": {},
   "outputs": [],
   "source": [
    "interactive()"
   ]
  }
 ],
 "metadata": {
  "kernelspec": {
   "display_name": "Python 3 (ipykernel)",
   "language": "python",
   "name": "python3"
  },
  "language_info": {
   "codemirror_mode": {
    "name": "ipython",
    "version": 3
   },
   "file_extension": ".py",
   "mimetype": "text/x-python",
   "name": "python",
   "nbconvert_exporter": "python",
   "pygments_lexer": "ipython3",
   "version": "3.10.9"
  }
 },
 "nbformat": 4,
 "nbformat_minor": 5
}
