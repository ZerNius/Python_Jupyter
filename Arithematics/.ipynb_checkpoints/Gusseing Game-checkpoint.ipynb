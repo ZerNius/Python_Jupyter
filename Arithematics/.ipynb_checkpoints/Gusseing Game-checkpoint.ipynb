{
 "cells": [
  {
   "cell_type": "code",
   "execution_count": 4,
   "id": "a36eb299",
   "metadata": {},
   "outputs": [],
   "source": [
    "# Need to add code to check if input in int or not and if not add some error handling\n",
    "from numpy import random\n",
    "\n",
    "def guess():\n",
    "    num = random.randint(0, 100)\n",
    "    guess = int(input('Guess a number between 1 and 100: '))\n",
    "\n",
    "    while(True):\n",
    "            if(guess == num):\n",
    "                print('Got it! The right number was %g and your final guess was %g' %(num, guess))\n",
    "                break;\n",
    "            elif(guess < num):\n",
    "                print('Guess higher')\n",
    "                guess = int( input('Guess Again: ') )            \n",
    "            elif(guess > num):\n",
    "                print('Guess Lower')\n",
    "                guess = int( input('Guess Again: ') )"
   ]
  },
  {
   "cell_type": "code",
   "execution_count": 5,
   "id": "4c624eee",
   "metadata": {},
   "outputs": [
    {
     "name": "stdout",
     "output_type": "stream",
     "text": [
      "Guess a number between 1 and 100: 50\n",
      "Guess Lower\n",
      "Guess Again: 30\n",
      "Guess higher\n",
      "Guess Again: 40\n",
      "Guess higher\n",
      "Guess Again: 45\n",
      "Guess higher\n",
      "Guess Again: 49\n",
      "Guess Lower\n",
      "Guess Again: 48\n",
      "Got it! The right number was 48 and your final guess was 48\n"
     ]
    }
   ],
   "source": [
    "guess()"
   ]
  }
 ],
 "metadata": {
  "kernelspec": {
   "display_name": "Python 3 (ipykernel)",
   "language": "python",
   "name": "python3"
  },
  "language_info": {
   "codemirror_mode": {
    "name": "ipython",
    "version": 3
   },
   "file_extension": ".py",
   "mimetype": "text/x-python",
   "name": "python",
   "nbconvert_exporter": "python",
   "pygments_lexer": "ipython3",
   "version": "3.10.9"
  }
 },
 "nbformat": 4,
 "nbformat_minor": 5
}
